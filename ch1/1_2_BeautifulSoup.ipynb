{
 "cells": [
  {
   "cell_type": "markdown",
   "metadata": {},
   "source": [
    "### 1-2. BeautifulSoup 사용\n",
    "BeautifulSoup를 이용하면 구조가 복잡한 HTML 페이지에서 원하는 데이터를 간단하게 추출<br>\n",
    "CSS 선택자를 이용해 데이터를 추출할 수도 있다."
   ]
  },
  {
   "cell_type": "code",
   "execution_count": 1,
   "metadata": {
    "collapsed": true
   },
   "outputs": [],
   "source": [
    "from bs4 import BeautifulSoup\n",
    "import urllib.request as req"
   ]
  },
  {
   "cell_type": "code",
   "execution_count": 2,
   "metadata": {
    "collapsed": true
   },
   "outputs": [],
   "source": [
    "url = \"http://www.kma.go.kr/weather/forecast/mid-term-rss3.jsp\""
   ]
  },
  {
   "cell_type": "code",
   "execution_count": 3,
   "metadata": {
    "collapsed": true
   },
   "outputs": [],
   "source": [
    "# urlopen()으로 데이터 가져오기\n",
    "res = req.urlopen(url)"
   ]
  },
  {
   "cell_type": "code",
   "execution_count": 4,
   "metadata": {
    "collapsed": true
   },
   "outputs": [],
   "source": [
    "# BeautifulSoup으로 분석하기\n",
    "soup = BeautifulSoup(res, \"html.parser\")"
   ]
  },
  {
   "cell_type": "code",
   "execution_count": 5,
   "metadata": {},
   "outputs": [
    {
     "name": "stdout",
     "output_type": "stream",
     "text": [
      "기상청 육상 중기예보\n",
      "저기압의 영향으로 10월 2일은 전국, 동풍의 영향으로 3일과 4일은 강원영동, 기압골의 영향으로 6일은 전남과 경상도, 제주도에 비가 오겠습니다. <br />그 밖의 날은 고기압의 가장자리에 들어 구름이 많겠습니다.<br />기온은 평년(최저기온: 7~17도, 최고기온: 21~25도)과 전반에는 비슷하거나 조금 낮겠고, 후반에는 비슷하거나 조금 높겠습니다.<br />강수량은 평년(1~6mm)보다 많겠습니다.<br /><br />* 10월 2일에 제주도와 남부지방에는 많은 비의 가능성이 있으니 귀성길 교통안전과 시설물관리에 유의하고 앞으로 발표되는 최신 기상정보를 참고하기 바랍니다.<br />* 이번 예보기간에는 기온의 변화가 크겠고, 10월 2일과 4일 사이 대부분의 해상에서 물결이 높게 일겠으니 항해나 조업하는 선박은 유의하기 바랍니다.\n"
     ]
    }
   ],
   "source": [
    "# 원하는 데이터 추출하기\n",
    "title = soup.find(\"title\").string\n",
    "wf = soup.find(\"wf\").string\n",
    "print(title)\n",
    "print(wf)"
   ]
  },
  {
   "cell_type": "markdown",
   "metadata": {},
   "source": [
    "________"
   ]
  },
  {
   "cell_type": "markdown",
   "metadata": {},
   "source": [
    "#### CSS 선택자 사용\n",
    "- soup.select_one(<선택자>)\n",
    "- soup.select(<선택자>)"
   ]
  },
  {
   "cell_type": "markdown",
   "metadata": {},
   "source": [
    "#### 네이버 금융에서 환율정보 추출하기"
   ]
  },
  {
   "cell_type": "markdown",
   "metadata": {},
   "source": [
    "<img src=\"https://i.imgur.com/uHtJFzq.png\">"
   ]
  },
  {
   "cell_type": "code",
   "execution_count": 6,
   "metadata": {},
   "outputs": [
    {
     "name": "stdout",
     "output_type": "stream",
     "text": [
      "usd/krw =  1,146.50\n"
     ]
    }
   ],
   "source": [
    "from bs4 import BeautifulSoup\n",
    "import urllib.request as req\n",
    "\n",
    "# HTML 가져오기\n",
    "url = \"http://info.finance.naver.com/marketindex/\"\n",
    "res = req.urlopen(url)\n",
    "\n",
    "# HTML 분석하기\n",
    "soup = BeautifulSoup(res, \"html.parser\")\n",
    "\n",
    "# 원하는 데이터 추출\n",
    "price = soup.select_one(\"div.head_info > span.value\").string\n",
    "print(\"usd/krw = \", price)"
   ]
  },
  {
   "cell_type": "markdown",
   "metadata": {},
   "source": [
    "    <div class=\"head_info point_dn\">\n",
    "        <span class=\"value\">1,146.50</span>\n",
    "        <span class=\"txt_krw\"><span class=\"blind\">원</span></span>\n",
    "        <span class=\"change\"> 1.50</span>\n",
    "        <span class=\"blind\">하락</span>\n",
    "    </div>"
   ]
  },
  {
   "cell_type": "markdown",
   "metadata": {},
   "source": [
    "______"
   ]
  }
 ],
 "metadata": {
  "kernelspec": {
   "display_name": "Python [conda root]",
   "language": "python",
   "name": "conda-root-py"
  },
  "language_info": {
   "codemirror_mode": {
    "name": "ipython",
    "version": 3
   },
   "file_extension": ".py",
   "mimetype": "text/x-python",
   "name": "python",
   "nbconvert_exporter": "python",
   "pygments_lexer": "ipython3",
   "version": "3.6.1"
  }
 },
 "nbformat": 4,
 "nbformat_minor": 2
}
